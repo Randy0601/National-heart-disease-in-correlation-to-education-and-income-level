{
 "cells": [
  {
   "cell_type": "code",
   "execution_count": 2,
   "metadata": {},
   "outputs": [],
   "source": [
    "import os\n",
    "import csv\n",
    "import pandas as pd\n",
    "import matplotlib.pyplot as plt\n",
    "import json\n",
    "import time\n",
    "import scipy.stats as stats\n",
    "import numpy as np\n",
    "\n",
    "mort = \"./2012-2016 CardioVasc Mortality Rates.csv\"\n",
    "edu = \"./Education.csv\"\n",
    "econo = \"./SAIPESNC.csv\""
   ]
  },
  {
   "cell_type": "code",
   "execution_count": 3,
   "metadata": {},
   "outputs": [],
   "source": [
    "mortality_file = pd.read_csv(mort)\n",
    "education_file = pd.read_csv(edu)\n",
    "socio_econo_file = pd.read_csv(econo)"
   ]
  },
  {
   "cell_type": "code",
   "execution_count": 4,
   "metadata": {},
   "outputs": [
    {
     "data": {
      "text/html": [
       "<div>\n",
       "<style scoped>\n",
       "    .dataframe tbody tr th:only-of-type {\n",
       "        vertical-align: middle;\n",
       "    }\n",
       "\n",
       "    .dataframe tbody tr th {\n",
       "        vertical-align: top;\n",
       "    }\n",
       "\n",
       "    .dataframe thead th {\n",
       "        text-align: right;\n",
       "    }\n",
       "</style>\n",
       "<table border=\"1\" class=\"dataframe\">\n",
       "  <thead>\n",
       "    <tr style=\"text-align: right;\">\n",
       "      <th></th>\n",
       "      <th>County ID</th>\n",
       "      <th>State</th>\n",
       "      <th>Area name</th>\n",
       "      <th>Less than a high school diploma, 2012-2016</th>\n",
       "      <th>High school diploma only, 2012-2016</th>\n",
       "      <th>Some college or associate's degree, 2012-2016</th>\n",
       "      <th>Bachelor's degree or higher, 2012-2016</th>\n",
       "      <th>Percent of adults with less than a high school diploma, 2012-2016</th>\n",
       "      <th>Percent of adults with a high school diploma only, 2012-2016</th>\n",
       "      <th>Percent of adults completing some college or associate's degree, 2012-2016</th>\n",
       "      <th>Percent of adults with a bachelor's degree or higher, 2012-2016</th>\n",
       "    </tr>\n",
       "  </thead>\n",
       "  <tbody>\n",
       "    <tr>\n",
       "      <th>0</th>\n",
       "      <td>0</td>\n",
       "      <td>US</td>\n",
       "      <td>United States</td>\n",
       "      <td>27,818,380</td>\n",
       "      <td>58,820,411</td>\n",
       "      <td>62,242,569</td>\n",
       "      <td>64,767,787</td>\n",
       "      <td>13.0</td>\n",
       "      <td>27.5</td>\n",
       "      <td>29.1</td>\n",
       "      <td>30.3</td>\n",
       "    </tr>\n",
       "    <tr>\n",
       "      <th>1</th>\n",
       "      <td>1001</td>\n",
       "      <td>AL</td>\n",
       "      <td>Autauga County</td>\n",
       "      <td>4,528</td>\n",
       "      <td>12,519</td>\n",
       "      <td>10,451</td>\n",
       "      <td>8,968</td>\n",
       "      <td>12.4</td>\n",
       "      <td>34.3</td>\n",
       "      <td>28.7</td>\n",
       "      <td>24.6</td>\n",
       "    </tr>\n",
       "    <tr>\n",
       "      <th>2</th>\n",
       "      <td>1003</td>\n",
       "      <td>AL</td>\n",
       "      <td>Baldwin County</td>\n",
       "      <td>13,956</td>\n",
       "      <td>40,154</td>\n",
       "      <td>44,486</td>\n",
       "      <td>41,350</td>\n",
       "      <td>10.0</td>\n",
       "      <td>28.7</td>\n",
       "      <td>31.8</td>\n",
       "      <td>29.5</td>\n",
       "    </tr>\n",
       "    <tr>\n",
       "      <th>3</th>\n",
       "      <td>1005</td>\n",
       "      <td>AL</td>\n",
       "      <td>Barbour County</td>\n",
       "      <td>4,824</td>\n",
       "      <td>6,422</td>\n",
       "      <td>4,775</td>\n",
       "      <td>2,366</td>\n",
       "      <td>26.2</td>\n",
       "      <td>34.9</td>\n",
       "      <td>26.0</td>\n",
       "      <td>12.9</td>\n",
       "    </tr>\n",
       "    <tr>\n",
       "      <th>4</th>\n",
       "      <td>1007</td>\n",
       "      <td>AL</td>\n",
       "      <td>Bibb County</td>\n",
       "      <td>3,040</td>\n",
       "      <td>6,586</td>\n",
       "      <td>4,234</td>\n",
       "      <td>1,890</td>\n",
       "      <td>19.3</td>\n",
       "      <td>41.8</td>\n",
       "      <td>26.9</td>\n",
       "      <td>12.0</td>\n",
       "    </tr>\n",
       "  </tbody>\n",
       "</table>\n",
       "</div>"
      ],
      "text/plain": [
       "   County ID State       Area name Less than a high school diploma, 2012-2016  \\\n",
       "0          0    US   United States                                 27,818,380   \n",
       "1       1001    AL  Autauga County                                      4,528   \n",
       "2       1003    AL  Baldwin County                                     13,956   \n",
       "3       1005    AL  Barbour County                                      4,824   \n",
       "4       1007    AL     Bibb County                                      3,040   \n",
       "\n",
       "  High school diploma only, 2012-2016  \\\n",
       "0                          58,820,411   \n",
       "1                              12,519   \n",
       "2                              40,154   \n",
       "3                               6,422   \n",
       "4                               6,586   \n",
       "\n",
       "  Some college or associate's degree, 2012-2016  \\\n",
       "0                                    62,242,569   \n",
       "1                                        10,451   \n",
       "2                                        44,486   \n",
       "3                                         4,775   \n",
       "4                                         4,234   \n",
       "\n",
       "  Bachelor's degree or higher, 2012-2016  \\\n",
       "0                             64,767,787   \n",
       "1                                  8,968   \n",
       "2                                 41,350   \n",
       "3                                  2,366   \n",
       "4                                  1,890   \n",
       "\n",
       "   Percent of adults with less than a high school diploma, 2012-2016  \\\n",
       "0                                               13.0                   \n",
       "1                                               12.4                   \n",
       "2                                               10.0                   \n",
       "3                                               26.2                   \n",
       "4                                               19.3                   \n",
       "\n",
       "   Percent of adults with a high school diploma only, 2012-2016  \\\n",
       "0                                               27.5              \n",
       "1                                               34.3              \n",
       "2                                               28.7              \n",
       "3                                               34.9              \n",
       "4                                               41.8              \n",
       "\n",
       "   Percent of adults completing some college or associate's degree, 2012-2016  \\\n",
       "0                                               29.1                            \n",
       "1                                               28.7                            \n",
       "2                                               31.8                            \n",
       "3                                               26.0                            \n",
       "4                                               26.9                            \n",
       "\n",
       "   Percent of adults with a bachelor's degree or higher, 2012-2016  \n",
       "0                                               30.3                \n",
       "1                                               24.6                \n",
       "2                                               29.5                \n",
       "3                                               12.9                \n",
       "4                                               12.0                "
      ]
     },
     "execution_count": 4,
     "metadata": {},
     "output_type": "execute_result"
    }
   ],
   "source": [
    "education_file = education_file.rename(columns={'FIPS Code':'County ID'})\n",
    "education_file.head()"
   ]
  },
  {
   "cell_type": "code",
   "execution_count": 5,
   "metadata": {},
   "outputs": [],
   "source": [
    "new_edu_columns = ['County ID', 'State', \"County Name\", '< High School', 'High School', 'Associate',\n",
    "                  'Bachelors <', 'Perc < High School', 'Perc High School', 'Perc Associate',\n",
    "                  'Perc Bachelors <']\n",
    "education_file.columns = new_edu_columns"
   ]
  },
  {
   "cell_type": "code",
   "execution_count": 6,
   "metadata": {},
   "outputs": [
    {
     "name": "stderr",
     "output_type": "stream",
     "text": [
      "C:\\Users\\randy\\AppData\\Local\\Continuum\\anaconda3\\lib\\site-packages\\ipykernel_launcher.py:3: SettingWithCopyWarning: \n",
      "A value is trying to be set on a copy of a slice from a DataFrame.\n",
      "Try using .loc[row_indexer,col_indexer] = value instead\n",
      "\n",
      "See the caveats in the documentation: http://pandas.pydata.org/pandas-docs/stable/indexing.html#indexing-view-versus-copy\n",
      "  This is separate from the ipykernel package so we can avoid doing imports until\n"
     ]
    },
    {
     "data": {
      "text/html": [
       "<div>\n",
       "<style scoped>\n",
       "    .dataframe tbody tr th:only-of-type {\n",
       "        vertical-align: middle;\n",
       "    }\n",
       "\n",
       "    .dataframe tbody tr th {\n",
       "        vertical-align: top;\n",
       "    }\n",
       "\n",
       "    .dataframe thead th {\n",
       "        text-align: right;\n",
       "    }\n",
       "</style>\n",
       "<table border=\"1\" class=\"dataframe\">\n",
       "  <thead>\n",
       "    <tr style=\"text-align: right;\">\n",
       "      <th></th>\n",
       "      <th>County ID</th>\n",
       "      <th>County Name</th>\n",
       "      <th>Perc &lt; High School</th>\n",
       "      <th>Perc High School</th>\n",
       "      <th>Perc Associate</th>\n",
       "      <th>Perc Bachelors &lt;</th>\n",
       "      <th>MYS</th>\n",
       "    </tr>\n",
       "  </thead>\n",
       "  <tbody>\n",
       "    <tr>\n",
       "      <th>0</th>\n",
       "      <td>0</td>\n",
       "      <td>United States</td>\n",
       "      <td>13.0</td>\n",
       "      <td>27.5</td>\n",
       "      <td>29.1</td>\n",
       "      <td>30.3</td>\n",
       "      <td></td>\n",
       "    </tr>\n",
       "    <tr>\n",
       "      <th>1</th>\n",
       "      <td>1001</td>\n",
       "      <td>Autauga County</td>\n",
       "      <td>12.4</td>\n",
       "      <td>34.3</td>\n",
       "      <td>28.7</td>\n",
       "      <td>24.6</td>\n",
       "      <td></td>\n",
       "    </tr>\n",
       "    <tr>\n",
       "      <th>2</th>\n",
       "      <td>1003</td>\n",
       "      <td>Baldwin County</td>\n",
       "      <td>10.0</td>\n",
       "      <td>28.7</td>\n",
       "      <td>31.8</td>\n",
       "      <td>29.5</td>\n",
       "      <td></td>\n",
       "    </tr>\n",
       "    <tr>\n",
       "      <th>3</th>\n",
       "      <td>1005</td>\n",
       "      <td>Barbour County</td>\n",
       "      <td>26.2</td>\n",
       "      <td>34.9</td>\n",
       "      <td>26.0</td>\n",
       "      <td>12.9</td>\n",
       "      <td></td>\n",
       "    </tr>\n",
       "    <tr>\n",
       "      <th>4</th>\n",
       "      <td>1007</td>\n",
       "      <td>Bibb County</td>\n",
       "      <td>19.3</td>\n",
       "      <td>41.8</td>\n",
       "      <td>26.9</td>\n",
       "      <td>12.0</td>\n",
       "      <td></td>\n",
       "    </tr>\n",
       "  </tbody>\n",
       "</table>\n",
       "</div>"
      ],
      "text/plain": [
       "   County ID     County Name  Perc < High School  Perc High School  \\\n",
       "0          0   United States                13.0              27.5   \n",
       "1       1001  Autauga County                12.4              34.3   \n",
       "2       1003  Baldwin County                10.0              28.7   \n",
       "3       1005  Barbour County                26.2              34.9   \n",
       "4       1007     Bibb County                19.3              41.8   \n",
       "\n",
       "   Perc Associate  Perc Bachelors < MYS  \n",
       "0            29.1              30.3      \n",
       "1            28.7              24.6      \n",
       "2            31.8              29.5      \n",
       "3            26.0              12.9      \n",
       "4            26.9              12.0      "
      ]
     },
     "execution_count": 6,
     "metadata": {},
     "output_type": "execute_result"
    }
   ],
   "source": [
    "edu_cleaned_columns = ['County ID', \"County Name\", 'Perc < High School', 'Perc High School', 'Perc Associate', 'Perc Bachelors <']\n",
    "education_clean_df = education_file[edu_cleaned_columns]\n",
    "education_clean_df['MYS'] = \"\"\n",
    "education_clean_df.head()"
   ]
  },
  {
   "cell_type": "code",
   "execution_count": 7,
   "metadata": {},
   "outputs": [
    {
     "name": "stderr",
     "output_type": "stream",
     "text": [
      "C:\\Users\\randy\\AppData\\Local\\Continuum\\anaconda3\\lib\\site-packages\\ipykernel_launcher.py:6: SettingWithCopyWarning: \n",
      "A value is trying to be set on a copy of a slice from a DataFrame.\n",
      "Try using .loc[row_indexer,col_indexer] = value instead\n",
      "\n",
      "See the caveats in the documentation: http://pandas.pydata.org/pandas-docs/stable/indexing.html#indexing-view-versus-copy\n",
      "  \n"
     ]
    },
    {
     "data": {
      "text/plain": [
       "count    3143.000000\n",
       "mean       13.989138\n",
       "std         0.834010\n",
       "min        12.010000\n",
       "10%        13.038400\n",
       "20%        13.280800\n",
       "30%        13.502000\n",
       "40%        13.706000\n",
       "50%        13.882000\n",
       "60%        14.070000\n",
       "70%        14.290800\n",
       "80%        14.603200\n",
       "90%        15.104800\n",
       "max        18.602000\n",
       "Name: MYS, dtype: float64"
      ]
     },
     "execution_count": 7,
     "metadata": {},
     "output_type": "execute_result"
    }
   ],
   "source": [
    "mean_years_schooling = []\n",
    "for index, row in education_clean_df.iterrows():\n",
    "    mean_years_schooling.append(((row['Perc < High School']*10) + (row['Perc High School'] * 12) + (row['Perc Associate'] * 14)\n",
    "                              + (row['Perc Bachelors <'] * 20))/100)\n",
    "    \n",
    "education_clean_df['MYS'] = mean_years_schooling\n",
    "education_clean_df['MYS'].describe(percentiles = [0.1, 0.2, 0.3, 0.4, 0.5, 0.6, 0.7, 0.8, 0.9])"
   ]
  },
  {
   "cell_type": "code",
   "execution_count": 8,
   "metadata": {},
   "outputs": [
    {
     "data": {
      "text/html": [
       "<div>\n",
       "<style scoped>\n",
       "    .dataframe tbody tr th:only-of-type {\n",
       "        vertical-align: middle;\n",
       "    }\n",
       "\n",
       "    .dataframe tbody tr th {\n",
       "        vertical-align: top;\n",
       "    }\n",
       "\n",
       "    .dataframe thead th {\n",
       "        text-align: right;\n",
       "    }\n",
       "</style>\n",
       "<table border=\"1\" class=\"dataframe\">\n",
       "  <thead>\n",
       "    <tr style=\"text-align: right;\">\n",
       "      <th></th>\n",
       "      <th>index</th>\n",
       "      <th>County ID</th>\n",
       "      <th>County Name</th>\n",
       "      <th>Perc &lt; High School</th>\n",
       "      <th>Perc High School</th>\n",
       "      <th>Perc Associate</th>\n",
       "      <th>Perc Bachelors &lt;</th>\n",
       "      <th>MYS</th>\n",
       "    </tr>\n",
       "  </thead>\n",
       "  <tbody>\n",
       "    <tr>\n",
       "      <th>0</th>\n",
       "      <td>0</td>\n",
       "      <td>0</td>\n",
       "      <td>United States</td>\n",
       "      <td>13.0</td>\n",
       "      <td>27.5</td>\n",
       "      <td>29.1</td>\n",
       "      <td>30.3</td>\n",
       "      <td>14.734</td>\n",
       "    </tr>\n",
       "    <tr>\n",
       "      <th>1</th>\n",
       "      <td>1</td>\n",
       "      <td>1001</td>\n",
       "      <td>Autauga County</td>\n",
       "      <td>12.4</td>\n",
       "      <td>34.3</td>\n",
       "      <td>28.7</td>\n",
       "      <td>24.6</td>\n",
       "      <td>14.294</td>\n",
       "    </tr>\n",
       "    <tr>\n",
       "      <th>2</th>\n",
       "      <td>2</td>\n",
       "      <td>1003</td>\n",
       "      <td>Baldwin County</td>\n",
       "      <td>10.0</td>\n",
       "      <td>28.7</td>\n",
       "      <td>31.8</td>\n",
       "      <td>29.5</td>\n",
       "      <td>14.796</td>\n",
       "    </tr>\n",
       "    <tr>\n",
       "      <th>3</th>\n",
       "      <td>3</td>\n",
       "      <td>1005</td>\n",
       "      <td>Barbour County</td>\n",
       "      <td>26.2</td>\n",
       "      <td>34.9</td>\n",
       "      <td>26.0</td>\n",
       "      <td>12.9</td>\n",
       "      <td>13.028</td>\n",
       "    </tr>\n",
       "    <tr>\n",
       "      <th>4</th>\n",
       "      <td>4</td>\n",
       "      <td>1007</td>\n",
       "      <td>Bibb County</td>\n",
       "      <td>19.3</td>\n",
       "      <td>41.8</td>\n",
       "      <td>26.9</td>\n",
       "      <td>12.0</td>\n",
       "      <td>13.112</td>\n",
       "    </tr>\n",
       "  </tbody>\n",
       "</table>\n",
       "</div>"
      ],
      "text/plain": [
       "   index  County ID     County Name  Perc < High School  Perc High School  \\\n",
       "0      0          0   United States                13.0              27.5   \n",
       "1      1       1001  Autauga County                12.4              34.3   \n",
       "2      2       1003  Baldwin County                10.0              28.7   \n",
       "3      3       1005  Barbour County                26.2              34.9   \n",
       "4      4       1007     Bibb County                19.3              41.8   \n",
       "\n",
       "   Perc Associate  Perc Bachelors <     MYS  \n",
       "0            29.1              30.3  14.734  \n",
       "1            28.7              24.6  14.294  \n",
       "2            31.8              29.5  14.796  \n",
       "3            26.0              12.9  13.028  \n",
       "4            26.9              12.0  13.112  "
      ]
     },
     "execution_count": 8,
     "metadata": {},
     "output_type": "execute_result"
    }
   ],
   "source": [
    "# Removing county 15005 from our education dataset as well, since it isn't included in our socio_econo file\n",
    "education_clean_df = education_clean_df[education_clean_df['County ID'] != 15005]\n",
    "education_clean_df.reset_index().head()"
   ]
  },
  {
   "cell_type": "code",
   "execution_count": 9,
   "metadata": {},
   "outputs": [
    {
     "data": {
      "text/html": [
       "<div>\n",
       "<style scoped>\n",
       "    .dataframe tbody tr th:only-of-type {\n",
       "        vertical-align: middle;\n",
       "    }\n",
       "\n",
       "    .dataframe tbody tr th {\n",
       "        vertical-align: top;\n",
       "    }\n",
       "\n",
       "    .dataframe thead th {\n",
       "        text-align: right;\n",
       "    }\n",
       "</style>\n",
       "<table border=\"1\" class=\"dataframe\">\n",
       "  <thead>\n",
       "    <tr style=\"text-align: right;\">\n",
       "      <th></th>\n",
       "      <th>State</th>\n",
       "      <th>County ID</th>\n",
       "      <th>County Name</th>\n",
       "      <th>1</th>\n",
       "      <th>2</th>\n",
       "      <th>3</th>\n",
       "      <th>4</th>\n",
       "      <th>5</th>\n",
       "      <th>6</th>\n",
       "      <th>7</th>\n",
       "      <th>Median Household Income</th>\n",
       "      <th>8</th>\n",
       "      <th>9</th>\n",
       "    </tr>\n",
       "  </thead>\n",
       "  <tbody>\n",
       "    <tr>\n",
       "      <th>0</th>\n",
       "      <td>0</td>\n",
       "      <td>0</td>\n",
       "      <td>United States</td>\n",
       "      <td>310764925</td>\n",
       "      <td>47240290</td>\n",
       "      <td>46990033</td>\n",
       "      <td>47490547</td>\n",
       "      <td>15.2</td>\n",
       "      <td>15.1</td>\n",
       "      <td>15.3</td>\n",
       "      <td>54134</td>\n",
       "      <td>54052</td>\n",
       "      <td>54216</td>\n",
       "    </tr>\n",
       "    <tr>\n",
       "      <th>1</th>\n",
       "      <td>1</td>\n",
       "      <td>1001</td>\n",
       "      <td>Autauga County (AL)</td>\n",
       "      <td>54905</td>\n",
       "      <td>7206</td>\n",
       "      <td>5914</td>\n",
       "      <td>8497</td>\n",
       "      <td>13.1</td>\n",
       "      <td>10.8</td>\n",
       "      <td>15.5</td>\n",
       "      <td>53748</td>\n",
       "      <td>49752</td>\n",
       "      <td>57745</td>\n",
       "    </tr>\n",
       "    <tr>\n",
       "      <th>2</th>\n",
       "      <td>1</td>\n",
       "      <td>1003</td>\n",
       "      <td>Baldwin County (AL)</td>\n",
       "      <td>197091</td>\n",
       "      <td>25850</td>\n",
       "      <td>21888</td>\n",
       "      <td>29811</td>\n",
       "      <td>13.1</td>\n",
       "      <td>11.1</td>\n",
       "      <td>15.1</td>\n",
       "      <td>50976</td>\n",
       "      <td>48035</td>\n",
       "      <td>53917</td>\n",
       "    </tr>\n",
       "    <tr>\n",
       "      <th>3</th>\n",
       "      <td>1</td>\n",
       "      <td>1005</td>\n",
       "      <td>Barbour County (AL)</td>\n",
       "      <td>23311</td>\n",
       "      <td>6731</td>\n",
       "      <td>5511</td>\n",
       "      <td>7952</td>\n",
       "      <td>28.9</td>\n",
       "      <td>23.6</td>\n",
       "      <td>34.1</td>\n",
       "      <td>32111</td>\n",
       "      <td>29316</td>\n",
       "      <td>34907</td>\n",
       "    </tr>\n",
       "    <tr>\n",
       "      <th>4</th>\n",
       "      <td>1</td>\n",
       "      <td>1007</td>\n",
       "      <td>Bibb County (AL)</td>\n",
       "      <td>20316</td>\n",
       "      <td>4268</td>\n",
       "      <td>3359</td>\n",
       "      <td>5177</td>\n",
       "      <td>21.0</td>\n",
       "      <td>16.5</td>\n",
       "      <td>25.5</td>\n",
       "      <td>40113</td>\n",
       "      <td>36439</td>\n",
       "      <td>43787</td>\n",
       "    </tr>\n",
       "  </tbody>\n",
       "</table>\n",
       "</div>"
      ],
      "text/plain": [
       "   State  County ID          County Name          1         2         3  \\\n",
       "0      0          0        United States  310764925  47240290  46990033   \n",
       "1      1       1001  Autauga County (AL)      54905      7206      5914   \n",
       "2      1       1003  Baldwin County (AL)     197091     25850     21888   \n",
       "3      1       1005  Barbour County (AL)      23311      6731      5511   \n",
       "4      1       1007     Bibb County (AL)      20316      4268      3359   \n",
       "\n",
       "          4     5     6     7 Median Household Income      8      9  \n",
       "0  47490547  15.2  15.1  15.3                   54134  54052  54216  \n",
       "1      8497  13.1  10.8  15.5                   53748  49752  57745  \n",
       "2     29811  13.1  11.1  15.1                   50976  48035  53917  \n",
       "3      7952  28.9  23.6  34.1                   32111  29316  34907  \n",
       "4      5177  21.0  16.5  25.5                   40113  36439  43787  "
      ]
     },
     "execution_count": 9,
     "metadata": {},
     "output_type": "execute_result"
    }
   ],
   "source": [
    "socio_columns = ['State', 'County ID', 'County Name', '1', '2', '3', '4',' 5', '6','7', 'Median Household Income', '8', '9']\n",
    "socio_econo_file.columns = socio_columns\n",
    "socio_econo_file.head()"
   ]
  },
  {
   "cell_type": "code",
   "execution_count": 10,
   "metadata": {},
   "outputs": [
    {
     "data": {
      "text/html": [
       "<div>\n",
       "<style scoped>\n",
       "    .dataframe tbody tr th:only-of-type {\n",
       "        vertical-align: middle;\n",
       "    }\n",
       "\n",
       "    .dataframe tbody tr th {\n",
       "        vertical-align: top;\n",
       "    }\n",
       "\n",
       "    .dataframe thead th {\n",
       "        text-align: right;\n",
       "    }\n",
       "</style>\n",
       "<table border=\"1\" class=\"dataframe\">\n",
       "  <thead>\n",
       "    <tr style=\"text-align: right;\">\n",
       "      <th></th>\n",
       "      <th>County ID</th>\n",
       "      <th>County Name</th>\n",
       "      <th>Median Household Income</th>\n",
       "    </tr>\n",
       "  </thead>\n",
       "  <tbody>\n",
       "    <tr>\n",
       "      <th>0</th>\n",
       "      <td>0</td>\n",
       "      <td>United States</td>\n",
       "      <td>54134</td>\n",
       "    </tr>\n",
       "    <tr>\n",
       "      <th>1</th>\n",
       "      <td>1001</td>\n",
       "      <td>Autauga County (AL)</td>\n",
       "      <td>53748</td>\n",
       "    </tr>\n",
       "    <tr>\n",
       "      <th>2</th>\n",
       "      <td>1003</td>\n",
       "      <td>Baldwin County (AL)</td>\n",
       "      <td>50976</td>\n",
       "    </tr>\n",
       "    <tr>\n",
       "      <th>3</th>\n",
       "      <td>1005</td>\n",
       "      <td>Barbour County (AL)</td>\n",
       "      <td>32111</td>\n",
       "    </tr>\n",
       "    <tr>\n",
       "      <th>4</th>\n",
       "      <td>1007</td>\n",
       "      <td>Bibb County (AL)</td>\n",
       "      <td>40113</td>\n",
       "    </tr>\n",
       "  </tbody>\n",
       "</table>\n",
       "</div>"
      ],
      "text/plain": [
       "   County ID          County Name Median Household Income\n",
       "0          0        United States                   54134\n",
       "1       1001  Autauga County (AL)                   53748\n",
       "2       1003  Baldwin County (AL)                   50976\n",
       "3       1005  Barbour County (AL)                   32111\n",
       "4       1007     Bibb County (AL)                   40113"
      ]
     },
     "execution_count": 10,
     "metadata": {},
     "output_type": "execute_result"
    }
   ],
   "source": [
    "# Change county name to just have county name, not state name, too.\n",
    "socio_cleaned_columns = ['County ID', 'County Name', 'Median Household Income']\n",
    "socio_econo_clean_df = socio_econo_file[socio_cleaned_columns]\n",
    "socio_econo_clean_df.head()"
   ]
  },
  {
   "cell_type": "code",
   "execution_count": 11,
   "metadata": {},
   "outputs": [
    {
     "data": {
      "text/html": [
       "<div>\n",
       "<style scoped>\n",
       "    .dataframe tbody tr th:only-of-type {\n",
       "        vertical-align: middle;\n",
       "    }\n",
       "\n",
       "    .dataframe tbody tr th {\n",
       "        vertical-align: top;\n",
       "    }\n",
       "\n",
       "    .dataframe thead th {\n",
       "        text-align: right;\n",
       "    }\n",
       "</style>\n",
       "<table border=\"1\" class=\"dataframe\">\n",
       "  <thead>\n",
       "    <tr style=\"text-align: right;\">\n",
       "      <th></th>\n",
       "      <th>index</th>\n",
       "      <th>County ID</th>\n",
       "      <th>County Name</th>\n",
       "      <th>Median Household Income</th>\n",
       "    </tr>\n",
       "  </thead>\n",
       "  <tbody>\n",
       "    <tr>\n",
       "      <th>0</th>\n",
       "      <td>0</td>\n",
       "      <td>0</td>\n",
       "      <td>United States</td>\n",
       "      <td>54134</td>\n",
       "    </tr>\n",
       "    <tr>\n",
       "      <th>1</th>\n",
       "      <td>1</td>\n",
       "      <td>1001</td>\n",
       "      <td>Autauga County (AL)</td>\n",
       "      <td>53748</td>\n",
       "    </tr>\n",
       "    <tr>\n",
       "      <th>2</th>\n",
       "      <td>2</td>\n",
       "      <td>1003</td>\n",
       "      <td>Baldwin County (AL)</td>\n",
       "      <td>50976</td>\n",
       "    </tr>\n",
       "    <tr>\n",
       "      <th>3</th>\n",
       "      <td>3</td>\n",
       "      <td>1005</td>\n",
       "      <td>Barbour County (AL)</td>\n",
       "      <td>32111</td>\n",
       "    </tr>\n",
       "    <tr>\n",
       "      <th>4</th>\n",
       "      <td>4</td>\n",
       "      <td>1007</td>\n",
       "      <td>Bibb County (AL)</td>\n",
       "      <td>40113</td>\n",
       "    </tr>\n",
       "  </tbody>\n",
       "</table>\n",
       "</div>"
      ],
      "text/plain": [
       "   index  County ID          County Name Median Household Income\n",
       "0      0          0        United States                   54134\n",
       "1      1       1001  Autauga County (AL)                   53748\n",
       "2      2       1003  Baldwin County (AL)                   50976\n",
       "3      3       1005  Barbour County (AL)                   32111\n",
       "4      4       1007     Bibb County (AL)                   40113"
      ]
     },
     "execution_count": 11,
     "metadata": {},
     "output_type": "execute_result"
    }
   ],
   "source": [
    "# Dropped the fucked row and reset index\n",
    "socio_econo_clean_df = socio_econo_clean_df[socio_econo_clean_df['County ID'] != 15005]\n",
    "socio_econo_clean_df.reset_index().head()"
   ]
  },
  {
   "cell_type": "code",
   "execution_count": 12,
   "metadata": {},
   "outputs": [
    {
     "name": "stdout",
     "output_type": "stream",
     "text": [
      "     County ID           County Name Median Household Income\n",
      "549      15001    Hawaii County (HI)                   51582\n",
      "550      15003  Honolulu County (HI)                   74794\n",
      "552      15007     Kauai County (HI)                   60725\n",
      "553      15009      Maui County (HI)                   64971\n",
      "554      16001       Ada County (ID)                   57133\n",
      "555      16003     Adams County (ID)                   38973\n"
     ]
    }
   ],
   "source": [
    "print(socio_econo_clean_df.iloc[549:555, :])"
   ]
  },
  {
   "cell_type": "code",
   "execution_count": 13,
   "metadata": {},
   "outputs": [],
   "source": [
    "# Now, we can convert Income column to integer\n",
    "socio_econo_clean_df['Median Household Income'] = pd.to_numeric(socio_econo_clean_df['Median Household Income'], errors='coerce')"
   ]
  },
  {
   "cell_type": "code",
   "execution_count": 14,
   "metadata": {},
   "outputs": [],
   "source": [
    "socio_econo_clean_df = socio_econo_clean_df.drop_duplicates(['County ID'], keep='first')"
   ]
  },
  {
   "cell_type": "code",
   "execution_count": 15,
   "metadata": {},
   "outputs": [
    {
     "name": "stdout",
     "output_type": "stream",
     "text": [
      "(3152, 7)\n",
      "(3145, 3)\n"
     ]
    }
   ],
   "source": [
    "print(education_clean_df.shape)\n",
    "print(socio_econo_clean_df.shape)\n",
    "# This shows that there are a few extra rows in our education dataset that will need to be addressed, as they will be occupied \n",
    "# by empty or NaN values"
   ]
  },
  {
   "cell_type": "code",
   "execution_count": 16,
   "metadata": {},
   "outputs": [
    {
     "data": {
      "text/html": [
       "<div>\n",
       "<style scoped>\n",
       "    .dataframe tbody tr th:only-of-type {\n",
       "        vertical-align: middle;\n",
       "    }\n",
       "\n",
       "    .dataframe tbody tr th {\n",
       "        vertical-align: top;\n",
       "    }\n",
       "\n",
       "    .dataframe thead th {\n",
       "        text-align: right;\n",
       "    }\n",
       "</style>\n",
       "<table border=\"1\" class=\"dataframe\">\n",
       "  <thead>\n",
       "    <tr style=\"text-align: right;\">\n",
       "      <th></th>\n",
       "      <th>County ID</th>\n",
       "      <th>County Name_ED</th>\n",
       "      <th>Perc &lt; High School</th>\n",
       "      <th>Perc High School</th>\n",
       "      <th>Perc Associate</th>\n",
       "      <th>Perc Bachelors &lt;</th>\n",
       "      <th>MYS</th>\n",
       "      <th>County NameSE</th>\n",
       "      <th>Median Household Income</th>\n",
       "    </tr>\n",
       "  </thead>\n",
       "  <tbody>\n",
       "    <tr>\n",
       "      <th>0</th>\n",
       "      <td>0</td>\n",
       "      <td>United States</td>\n",
       "      <td>13.0</td>\n",
       "      <td>27.5</td>\n",
       "      <td>29.1</td>\n",
       "      <td>30.3</td>\n",
       "      <td>14.734</td>\n",
       "      <td>United States</td>\n",
       "      <td>54134.0</td>\n",
       "    </tr>\n",
       "    <tr>\n",
       "      <th>1</th>\n",
       "      <td>1001</td>\n",
       "      <td>Autauga County</td>\n",
       "      <td>12.4</td>\n",
       "      <td>34.3</td>\n",
       "      <td>28.7</td>\n",
       "      <td>24.6</td>\n",
       "      <td>14.294</td>\n",
       "      <td>Autauga County (AL)</td>\n",
       "      <td>53748.0</td>\n",
       "    </tr>\n",
       "    <tr>\n",
       "      <th>2</th>\n",
       "      <td>1003</td>\n",
       "      <td>Baldwin County</td>\n",
       "      <td>10.0</td>\n",
       "      <td>28.7</td>\n",
       "      <td>31.8</td>\n",
       "      <td>29.5</td>\n",
       "      <td>14.796</td>\n",
       "      <td>Baldwin County (AL)</td>\n",
       "      <td>50976.0</td>\n",
       "    </tr>\n",
       "    <tr>\n",
       "      <th>3</th>\n",
       "      <td>1005</td>\n",
       "      <td>Barbour County</td>\n",
       "      <td>26.2</td>\n",
       "      <td>34.9</td>\n",
       "      <td>26.0</td>\n",
       "      <td>12.9</td>\n",
       "      <td>13.028</td>\n",
       "      <td>Barbour County (AL)</td>\n",
       "      <td>32111.0</td>\n",
       "    </tr>\n",
       "    <tr>\n",
       "      <th>4</th>\n",
       "      <td>1007</td>\n",
       "      <td>Bibb County</td>\n",
       "      <td>19.3</td>\n",
       "      <td>41.8</td>\n",
       "      <td>26.9</td>\n",
       "      <td>12.0</td>\n",
       "      <td>13.112</td>\n",
       "      <td>Bibb County (AL)</td>\n",
       "      <td>40113.0</td>\n",
       "    </tr>\n",
       "  </tbody>\n",
       "</table>\n",
       "</div>"
      ],
      "text/plain": [
       "   County ID  County Name_ED  Perc < High School  Perc High School  \\\n",
       "0          0   United States                13.0              27.5   \n",
       "1       1001  Autauga County                12.4              34.3   \n",
       "2       1003  Baldwin County                10.0              28.7   \n",
       "3       1005  Barbour County                26.2              34.9   \n",
       "4       1007     Bibb County                19.3              41.8   \n",
       "\n",
       "   Perc Associate  Perc Bachelors <     MYS        County NameSE  \\\n",
       "0            29.1              30.3  14.734        United States   \n",
       "1            28.7              24.6  14.294  Autauga County (AL)   \n",
       "2            31.8              29.5  14.796  Baldwin County (AL)   \n",
       "3            26.0              12.9  13.028  Barbour County (AL)   \n",
       "4            26.9              12.0  13.112     Bibb County (AL)   \n",
       "\n",
       "   Median Household Income  \n",
       "0                  54134.0  \n",
       "1                  53748.0  \n",
       "2                  50976.0  \n",
       "3                  32111.0  \n",
       "4                  40113.0  "
      ]
     },
     "execution_count": 16,
     "metadata": {},
     "output_type": "execute_result"
    }
   ],
   "source": [
    "# Now, we should be able to merge everything...\n",
    "education_income_df = pd.merge(education_clean_df, socio_econo_clean_df, on='County ID', how='outer', \n",
    "                               suffixes=('_ED', 'SE'), validate='1:1')\n",
    "\n",
    "education_income_df.head()"
   ]
  },
  {
   "cell_type": "code",
   "execution_count": 17,
   "metadata": {},
   "outputs": [
    {
     "data": {
      "text/html": [
       "<div>\n",
       "<style scoped>\n",
       "    .dataframe tbody tr th:only-of-type {\n",
       "        vertical-align: middle;\n",
       "    }\n",
       "\n",
       "    .dataframe tbody tr th {\n",
       "        vertical-align: top;\n",
       "    }\n",
       "\n",
       "    .dataframe thead th {\n",
       "        text-align: right;\n",
       "    }\n",
       "</style>\n",
       "<table border=\"1\" class=\"dataframe\">\n",
       "  <thead>\n",
       "    <tr style=\"text-align: right;\">\n",
       "      <th></th>\n",
       "      <th>County ID</th>\n",
       "      <th>MYS</th>\n",
       "      <th>County NameSE</th>\n",
       "      <th>Median Household Income</th>\n",
       "    </tr>\n",
       "  </thead>\n",
       "  <tbody>\n",
       "    <tr>\n",
       "      <th>0</th>\n",
       "      <td>0</td>\n",
       "      <td>14.734</td>\n",
       "      <td>United States</td>\n",
       "      <td>54134.0</td>\n",
       "    </tr>\n",
       "    <tr>\n",
       "      <th>1</th>\n",
       "      <td>1001</td>\n",
       "      <td>14.294</td>\n",
       "      <td>Autauga County (AL)</td>\n",
       "      <td>53748.0</td>\n",
       "    </tr>\n",
       "    <tr>\n",
       "      <th>2</th>\n",
       "      <td>1003</td>\n",
       "      <td>14.796</td>\n",
       "      <td>Baldwin County (AL)</td>\n",
       "      <td>50976.0</td>\n",
       "    </tr>\n",
       "    <tr>\n",
       "      <th>3</th>\n",
       "      <td>1005</td>\n",
       "      <td>13.028</td>\n",
       "      <td>Barbour County (AL)</td>\n",
       "      <td>32111.0</td>\n",
       "    </tr>\n",
       "    <tr>\n",
       "      <th>4</th>\n",
       "      <td>1007</td>\n",
       "      <td>13.112</td>\n",
       "      <td>Bibb County (AL)</td>\n",
       "      <td>40113.0</td>\n",
       "    </tr>\n",
       "  </tbody>\n",
       "</table>\n",
       "</div>"
      ],
      "text/plain": [
       "   County ID     MYS        County NameSE  Median Household Income\n",
       "0          0  14.734        United States                  54134.0\n",
       "1       1001  14.294  Autauga County (AL)                  53748.0\n",
       "2       1003  14.796  Baldwin County (AL)                  50976.0\n",
       "3       1005  13.028  Barbour County (AL)                  32111.0\n",
       "4       1007  13.112     Bibb County (AL)                  40113.0"
      ]
     },
     "execution_count": 17,
     "metadata": {},
     "output_type": "execute_result"
    }
   ],
   "source": [
    "education_income_clean_df = education_income_df[['County ID', 'MYS', \n",
    "       'County NameSE', 'Median Household Income']]\n",
    "education_income_clean_df.head()"
   ]
  },
  {
   "cell_type": "code",
   "execution_count": 18,
   "metadata": {},
   "outputs": [
    {
     "data": {
      "text/html": [
       "<div>\n",
       "<style scoped>\n",
       "    .dataframe tbody tr th:only-of-type {\n",
       "        vertical-align: middle;\n",
       "    }\n",
       "\n",
       "    .dataframe tbody tr th {\n",
       "        vertical-align: top;\n",
       "    }\n",
       "\n",
       "    .dataframe thead th {\n",
       "        text-align: right;\n",
       "    }\n",
       "</style>\n",
       "<table border=\"1\" class=\"dataframe\">\n",
       "  <thead>\n",
       "    <tr style=\"text-align: right;\">\n",
       "      <th></th>\n",
       "      <th>County Name (State)</th>\n",
       "      <th>County ID</th>\n",
       "      <th>MYS</th>\n",
       "      <th>Median Household Income</th>\n",
       "    </tr>\n",
       "  </thead>\n",
       "  <tbody>\n",
       "    <tr>\n",
       "      <th>0</th>\n",
       "      <td>United States</td>\n",
       "      <td>0</td>\n",
       "      <td>14.734</td>\n",
       "      <td>54134.0</td>\n",
       "    </tr>\n",
       "    <tr>\n",
       "      <th>1</th>\n",
       "      <td>Autauga County (AL)</td>\n",
       "      <td>1001</td>\n",
       "      <td>14.294</td>\n",
       "      <td>53748.0</td>\n",
       "    </tr>\n",
       "    <tr>\n",
       "      <th>2</th>\n",
       "      <td>Baldwin County (AL)</td>\n",
       "      <td>1003</td>\n",
       "      <td>14.796</td>\n",
       "      <td>50976.0</td>\n",
       "    </tr>\n",
       "    <tr>\n",
       "      <th>3</th>\n",
       "      <td>Barbour County (AL)</td>\n",
       "      <td>1005</td>\n",
       "      <td>13.028</td>\n",
       "      <td>32111.0</td>\n",
       "    </tr>\n",
       "    <tr>\n",
       "      <th>4</th>\n",
       "      <td>Bibb County (AL)</td>\n",
       "      <td>1007</td>\n",
       "      <td>13.112</td>\n",
       "      <td>40113.0</td>\n",
       "    </tr>\n",
       "  </tbody>\n",
       "</table>\n",
       "</div>"
      ],
      "text/plain": [
       "   County Name (State)  County ID     MYS  Median Household Income\n",
       "0        United States          0  14.734                  54134.0\n",
       "1  Autauga County (AL)       1001  14.294                  53748.0\n",
       "2  Baldwin County (AL)       1003  14.796                  50976.0\n",
       "3  Barbour County (AL)       1005  13.028                  32111.0\n",
       "4     Bibb County (AL)       1007  13.112                  40113.0"
      ]
     },
     "execution_count": 18,
     "metadata": {},
     "output_type": "execute_result"
    }
   ],
   "source": [
    "# Move county name to front and rename\n",
    "education_income_clean_df = education_income_clean_df[['County NameSE', 'County ID',  'MYS', \n",
    "       'Median Household Income']]\n",
    "education_income_clean_df = education_income_clean_df.rename(columns={'County NameSE' : 'County Name (State)'})\n",
    "education_income_clean_df.head()"
   ]
  },
  {
   "cell_type": "code",
   "execution_count": 19,
   "metadata": {},
   "outputs": [
    {
     "data": {
      "text/plain": [
       "(3154, 4)"
      ]
     },
     "execution_count": 19,
     "metadata": {},
     "output_type": "execute_result"
    }
   ],
   "source": [
    "education_income_clean_df.shape\n",
    "# This means there are more rows than either of the two original dataframes had initially...  drop those NaN's."
   ]
  },
  {
   "cell_type": "code",
   "execution_count": 20,
   "metadata": {},
   "outputs": [
    {
     "data": {
      "text/plain": [
       "3154"
      ]
     },
     "execution_count": 20,
     "metadata": {},
     "output_type": "execute_result"
    }
   ],
   "source": [
    "education_income_clean_df['County ID'].count()"
   ]
  },
  {
   "cell_type": "code",
   "execution_count": 21,
   "metadata": {},
   "outputs": [
    {
     "data": {
      "text/plain": [
       "(2896, 3)"
      ]
     },
     "execution_count": 21,
     "metadata": {},
     "output_type": "execute_result"
    }
   ],
   "source": [
    "mortality_clean = mortality_file[['County', 'County Code', 'Crude Rate']]\n",
    "mortality_clean = mortality_clean.rename(columns={'County Code':'County ID'})\n",
    "mortality_clean.head()\n",
    "mortality_clean.shape"
   ]
  },
  {
   "cell_type": "code",
   "execution_count": 22,
   "metadata": {},
   "outputs": [],
   "source": [
    "combined_data = pd.merge(education_income_clean_df, mortality_clean, how='outer', on='County ID', suffixes=('_EI', 'MORT'))"
   ]
  },
  {
   "cell_type": "code",
   "execution_count": 23,
   "metadata": {},
   "outputs": [
    {
     "data": {
      "text/plain": [
       "(2893, 5)"
      ]
     },
     "execution_count": 23,
     "metadata": {},
     "output_type": "execute_result"
    }
   ],
   "source": [
    "combined_data = combined_data.dropna()\n",
    "del combined_data['County Name (State)']\n",
    "combined_data.shape"
   ]
  },
  {
   "cell_type": "code",
   "execution_count": 24,
   "metadata": {},
   "outputs": [
    {
     "data": {
      "text/plain": [
       "(2653, 5)"
      ]
     },
     "execution_count": 24,
     "metadata": {},
     "output_type": "execute_result"
    }
   ],
   "source": [
    "combined_data = combined_data[combined_data['Crude Rate'] != 'Unreliable']\n",
    "combined_data.shape"
   ]
  },
  {
   "cell_type": "code",
   "execution_count": 25,
   "metadata": {},
   "outputs": [],
   "source": [
    "combined_data['Crude Rate'] = pd.to_numeric(combined_data['Crude Rate'])"
   ]
  },
  {
   "cell_type": "code",
   "execution_count": 26,
   "metadata": {},
   "outputs": [
    {
     "data": {
      "text/plain": [
       "count    2653.000000\n",
       "mean       13.977689\n",
       "std         0.855245\n",
       "min        12.010000\n",
       "10%        13.022400\n",
       "20%        13.248800\n",
       "30%        13.449200\n",
       "40%        13.644000\n",
       "50%        13.830000\n",
       "60%        14.036000\n",
       "70%        14.298000\n",
       "80%        14.630000\n",
       "90%        15.152000\n",
       "max        18.010000\n",
       "Name: MYS, dtype: float64"
      ]
     },
     "execution_count": 26,
     "metadata": {},
     "output_type": "execute_result"
    }
   ],
   "source": [
    "combined_data['MYS'].describe(percentiles=[0.1, 0.2, 0.3, 0.4, 0.5, 0.6, 0.7, 0.8, 0.9])"
   ]
  },
  {
   "cell_type": "code",
   "execution_count": 27,
   "metadata": {
    "scrolled": false
   },
   "outputs": [
    {
     "data": {
      "text/html": [
       "<div>\n",
       "<style scoped>\n",
       "    .dataframe tbody tr th:only-of-type {\n",
       "        vertical-align: middle;\n",
       "    }\n",
       "\n",
       "    .dataframe tbody tr th {\n",
       "        vertical-align: top;\n",
       "    }\n",
       "\n",
       "    .dataframe thead th {\n",
       "        text-align: right;\n",
       "    }\n",
       "</style>\n",
       "<table border=\"1\" class=\"dataframe\">\n",
       "  <thead>\n",
       "    <tr style=\"text-align: right;\">\n",
       "      <th></th>\n",
       "      <th>County ID</th>\n",
       "      <th>MYS</th>\n",
       "      <th>Median Household Income</th>\n",
       "      <th>County</th>\n",
       "      <th>Crude Rate</th>\n",
       "      <th>Education Bin</th>\n",
       "    </tr>\n",
       "  </thead>\n",
       "  <tbody>\n",
       "    <tr>\n",
       "      <th>1</th>\n",
       "      <td>1001</td>\n",
       "      <td>14.294</td>\n",
       "      <td>53748.0</td>\n",
       "      <td>Autauga County, AL</td>\n",
       "      <td>130.0</td>\n",
       "      <td>7</td>\n",
       "    </tr>\n",
       "    <tr>\n",
       "      <th>2</th>\n",
       "      <td>1003</td>\n",
       "      <td>14.796</td>\n",
       "      <td>50976.0</td>\n",
       "      <td>Baldwin County, AL</td>\n",
       "      <td>113.0</td>\n",
       "      <td>9</td>\n",
       "    </tr>\n",
       "    <tr>\n",
       "      <th>3</th>\n",
       "      <td>1005</td>\n",
       "      <td>13.028</td>\n",
       "      <td>32111.0</td>\n",
       "      <td>Barbour County, AL</td>\n",
       "      <td>165.1</td>\n",
       "      <td>2</td>\n",
       "    </tr>\n",
       "    <tr>\n",
       "      <th>4</th>\n",
       "      <td>1007</td>\n",
       "      <td>13.112</td>\n",
       "      <td>40113.0</td>\n",
       "      <td>Bibb County, AL</td>\n",
       "      <td>195.8</td>\n",
       "      <td>2</td>\n",
       "    </tr>\n",
       "    <tr>\n",
       "      <th>5</th>\n",
       "      <td>1009</td>\n",
       "      <td>13.328</td>\n",
       "      <td>46377.0</td>\n",
       "      <td>Blount County, AL</td>\n",
       "      <td>130.7</td>\n",
       "      <td>3</td>\n",
       "    </tr>\n",
       "  </tbody>\n",
       "</table>\n",
       "</div>"
      ],
      "text/plain": [
       "   County ID     MYS  Median Household Income              County  Crude Rate  \\\n",
       "1       1001  14.294                  53748.0  Autauga County, AL       130.0   \n",
       "2       1003  14.796                  50976.0  Baldwin County, AL       113.0   \n",
       "3       1005  13.028                  32111.0  Barbour County, AL       165.1   \n",
       "4       1007  13.112                  40113.0     Bibb County, AL       195.8   \n",
       "5       1009  13.328                  46377.0   Blount County, AL       130.7   \n",
       "\n",
       "  Education Bin  \n",
       "1             7  \n",
       "2             9  \n",
       "3             2  \n",
       "4             2  \n",
       "5             3  "
      ]
     },
     "execution_count": 27,
     "metadata": {},
     "output_type": "execute_result"
    }
   ],
   "source": [
    "combined_data['Education Bin'] = \"\"\n",
    "\n",
    "education_bins = combined_data['MYS'].describe(percentiles=[0.1, 0.2, 0.3, 0.4, 0.5, 0.6, 0.7, \n",
    "                                                                                    0.8, 0.9])[['min', '10%', '20%', '30%', \n",
    "                                                                                                '40%', '50%', '60%', '70%', \n",
    "                                                                                                '80%', '90%', 'max']]\n",
    "education_bin_labels = ['1', '2', '3', '4', '5', '6', '7', '8', '9', '10']\n",
    "combined_data['Education Bin'] = pd.cut(combined_data['MYS'], bins=education_bins, labels=education_bin_labels)\n",
    "combined_data.head()"
   ]
  },
  {
   "cell_type": "code",
   "execution_count": 28,
   "metadata": {},
   "outputs": [
    {
     "data": {
      "text/plain": [
       "2652"
      ]
     },
     "execution_count": 28,
     "metadata": {},
     "output_type": "execute_result"
    }
   ],
   "source": [
    "combined_data['Education Bin'].value_counts().sum()"
   ]
  },
  {
   "cell_type": "code",
   "execution_count": 29,
   "metadata": {
    "scrolled": true
   },
   "outputs": [
    {
     "data": {
      "text/html": [
       "<div>\n",
       "<style scoped>\n",
       "    .dataframe tbody tr th:only-of-type {\n",
       "        vertical-align: middle;\n",
       "    }\n",
       "\n",
       "    .dataframe tbody tr th {\n",
       "        vertical-align: top;\n",
       "    }\n",
       "\n",
       "    .dataframe thead th {\n",
       "        text-align: right;\n",
       "    }\n",
       "</style>\n",
       "<table border=\"1\" class=\"dataframe\">\n",
       "  <thead>\n",
       "    <tr style=\"text-align: right;\">\n",
       "      <th></th>\n",
       "      <th>County ID</th>\n",
       "      <th>MYS</th>\n",
       "      <th>Median Household Income</th>\n",
       "      <th>County</th>\n",
       "      <th>Crude Rate</th>\n",
       "      <th>Education Bin</th>\n",
       "      <th>Income Bin</th>\n",
       "    </tr>\n",
       "  </thead>\n",
       "  <tbody>\n",
       "    <tr>\n",
       "      <th>1</th>\n",
       "      <td>1001</td>\n",
       "      <td>14.294</td>\n",
       "      <td>53748.0</td>\n",
       "      <td>Autauga County, AL</td>\n",
       "      <td>130.0</td>\n",
       "      <td>7</td>\n",
       "      <td>8</td>\n",
       "    </tr>\n",
       "    <tr>\n",
       "      <th>2</th>\n",
       "      <td>1003</td>\n",
       "      <td>14.796</td>\n",
       "      <td>50976.0</td>\n",
       "      <td>Baldwin County, AL</td>\n",
       "      <td>113.0</td>\n",
       "      <td>9</td>\n",
       "      <td>8</td>\n",
       "    </tr>\n",
       "    <tr>\n",
       "      <th>3</th>\n",
       "      <td>1005</td>\n",
       "      <td>13.028</td>\n",
       "      <td>32111.0</td>\n",
       "      <td>Barbour County, AL</td>\n",
       "      <td>165.1</td>\n",
       "      <td>2</td>\n",
       "      <td>1</td>\n",
       "    </tr>\n",
       "    <tr>\n",
       "      <th>4</th>\n",
       "      <td>1007</td>\n",
       "      <td>13.112</td>\n",
       "      <td>40113.0</td>\n",
       "      <td>Bibb County, AL</td>\n",
       "      <td>195.8</td>\n",
       "      <td>2</td>\n",
       "      <td>3</td>\n",
       "    </tr>\n",
       "    <tr>\n",
       "      <th>5</th>\n",
       "      <td>1009</td>\n",
       "      <td>13.328</td>\n",
       "      <td>46377.0</td>\n",
       "      <td>Blount County, AL</td>\n",
       "      <td>130.7</td>\n",
       "      <td>3</td>\n",
       "      <td>6</td>\n",
       "    </tr>\n",
       "  </tbody>\n",
       "</table>\n",
       "</div>"
      ],
      "text/plain": [
       "   County ID     MYS  Median Household Income              County  Crude Rate  \\\n",
       "1       1001  14.294                  53748.0  Autauga County, AL       130.0   \n",
       "2       1003  14.796                  50976.0  Baldwin County, AL       113.0   \n",
       "3       1005  13.028                  32111.0  Barbour County, AL       165.1   \n",
       "4       1007  13.112                  40113.0     Bibb County, AL       195.8   \n",
       "5       1009  13.328                  46377.0   Blount County, AL       130.7   \n",
       "\n",
       "  Education Bin Income Bin  \n",
       "1             7          8  \n",
       "2             9          8  \n",
       "3             2          1  \n",
       "4             2          3  \n",
       "5             3          6  "
      ]
     },
     "execution_count": 29,
     "metadata": {},
     "output_type": "execute_result"
    }
   ],
   "source": [
    "# We will create the same bins based on these percentile ranges and see if they match up with our education bins\n",
    "combined_data['Income Bin'] = \"\"\n",
    "\n",
    "income_bins = combined_data['Median Household Income'].describe(percentiles=[0.1, 0.2, 0.3, 0.4, 0.5, 0.6, 0.7, \n",
    "                                                                                    0.8, 0.9])[['min', '10%', '20%', '30%', \n",
    "                                                                                                '40%', '50%', '60%', '70%', \n",
    "                                                                                                '80%', '90%', 'max']]\n",
    "income_bin_labels = ['1', '2', '3', '4', '5', '6', '7', '8', '9', '10']\n",
    "combined_data['Income Bin'] = pd.cut(combined_data['Median Household Income'], \n",
    "                                            bins=income_bins, labels=income_bin_labels)\n",
    "combined_data.head()"
   ]
  },
  {
   "cell_type": "code",
   "execution_count": 30,
   "metadata": {},
   "outputs": [
    {
     "data": {
      "text/plain": [
       "2652"
      ]
     },
     "execution_count": 30,
     "metadata": {},
     "output_type": "execute_result"
    }
   ],
   "source": [
    "combined_data['Income Bin'].value_counts().sum()"
   ]
  },
  {
   "cell_type": "code",
   "execution_count": 31,
   "metadata": {
    "scrolled": false
   },
   "outputs": [
    {
     "data": {
      "text/html": [
       "<div>\n",
       "<style scoped>\n",
       "    .dataframe tbody tr th:only-of-type {\n",
       "        vertical-align: middle;\n",
       "    }\n",
       "\n",
       "    .dataframe tbody tr th {\n",
       "        vertical-align: top;\n",
       "    }\n",
       "\n",
       "    .dataframe thead th {\n",
       "        text-align: right;\n",
       "    }\n",
       "</style>\n",
       "<table border=\"1\" class=\"dataframe\">\n",
       "  <thead>\n",
       "    <tr style=\"text-align: right;\">\n",
       "      <th></th>\n",
       "      <th>County ID</th>\n",
       "      <th>MYS</th>\n",
       "      <th>Median Household Income</th>\n",
       "      <th>County</th>\n",
       "      <th>Crude Rate</th>\n",
       "      <th>Education Bin</th>\n",
       "      <th>Income Bin</th>\n",
       "      <th>Mortality Bin</th>\n",
       "    </tr>\n",
       "  </thead>\n",
       "  <tbody>\n",
       "    <tr>\n",
       "      <th>1</th>\n",
       "      <td>1001</td>\n",
       "      <td>14.294</td>\n",
       "      <td>53748.0</td>\n",
       "      <td>Autauga County, AL</td>\n",
       "      <td>130.0</td>\n",
       "      <td>7</td>\n",
       "      <td>8</td>\n",
       "      <td>6</td>\n",
       "    </tr>\n",
       "    <tr>\n",
       "      <th>2</th>\n",
       "      <td>1003</td>\n",
       "      <td>14.796</td>\n",
       "      <td>50976.0</td>\n",
       "      <td>Baldwin County, AL</td>\n",
       "      <td>113.0</td>\n",
       "      <td>9</td>\n",
       "      <td>8</td>\n",
       "      <td>5</td>\n",
       "    </tr>\n",
       "    <tr>\n",
       "      <th>3</th>\n",
       "      <td>1005</td>\n",
       "      <td>13.028</td>\n",
       "      <td>32111.0</td>\n",
       "      <td>Barbour County, AL</td>\n",
       "      <td>165.1</td>\n",
       "      <td>2</td>\n",
       "      <td>1</td>\n",
       "      <td>8</td>\n",
       "    </tr>\n",
       "    <tr>\n",
       "      <th>4</th>\n",
       "      <td>1007</td>\n",
       "      <td>13.112</td>\n",
       "      <td>40113.0</td>\n",
       "      <td>Bibb County, AL</td>\n",
       "      <td>195.8</td>\n",
       "      <td>2</td>\n",
       "      <td>3</td>\n",
       "      <td>9</td>\n",
       "    </tr>\n",
       "    <tr>\n",
       "      <th>5</th>\n",
       "      <td>1009</td>\n",
       "      <td>13.328</td>\n",
       "      <td>46377.0</td>\n",
       "      <td>Blount County, AL</td>\n",
       "      <td>130.7</td>\n",
       "      <td>3</td>\n",
       "      <td>6</td>\n",
       "      <td>7</td>\n",
       "    </tr>\n",
       "  </tbody>\n",
       "</table>\n",
       "</div>"
      ],
      "text/plain": [
       "   County ID     MYS  Median Household Income              County  Crude Rate  \\\n",
       "1       1001  14.294                  53748.0  Autauga County, AL       130.0   \n",
       "2       1003  14.796                  50976.0  Baldwin County, AL       113.0   \n",
       "3       1005  13.028                  32111.0  Barbour County, AL       165.1   \n",
       "4       1007  13.112                  40113.0     Bibb County, AL       195.8   \n",
       "5       1009  13.328                  46377.0   Blount County, AL       130.7   \n",
       "\n",
       "  Education Bin Income Bin Mortality Bin  \n",
       "1             7          8             6  \n",
       "2             9          8             5  \n",
       "3             2          1             8  \n",
       "4             2          3             9  \n",
       "5             3          6             7  "
      ]
     },
     "execution_count": 31,
     "metadata": {},
     "output_type": "execute_result"
    }
   ],
   "source": [
    "combined_data['Mortality Bin'] = \"\"\n",
    "mortality_bins = combined_data['Crude Rate'].describe(percentiles=[0.1, 0.2, 0.3, 0.4, 0.5, 0.6, 0.7, \n",
    "                                                                                    0.8, 0.9])[['min', '10%', '20%', '30%', \n",
    "                                                                                                '40%', '50%', '60%', '70%', \n",
    "                                                                                                '80%', '90%', 'max']]\n",
    "mortality_bin_labels = ['1', '2', '3', '4', '5', '6', '7', '8', '9', '10']\n",
    "combined_data['Mortality Bin'] = pd.cut(combined_data['Crude Rate'], \n",
    "                                            bins=mortality_bins, labels=mortality_bin_labels)\n",
    "combined_data.head()"
   ]
  },
  {
   "cell_type": "code",
   "execution_count": 32,
   "metadata": {},
   "outputs": [
    {
     "data": {
      "text/plain": [
       "2652"
      ]
     },
     "execution_count": 32,
     "metadata": {},
     "output_type": "execute_result"
    }
   ],
   "source": [
    "combined_data['Mortality Bin'].value_counts().sum()"
   ]
  },
  {
   "cell_type": "code",
   "execution_count": 33,
   "metadata": {},
   "outputs": [
    {
     "data": {
      "text/html": [
       "<div>\n",
       "<style scoped>\n",
       "    .dataframe tbody tr th:only-of-type {\n",
       "        vertical-align: middle;\n",
       "    }\n",
       "\n",
       "    .dataframe tbody tr th {\n",
       "        vertical-align: top;\n",
       "    }\n",
       "\n",
       "    .dataframe thead th {\n",
       "        text-align: right;\n",
       "    }\n",
       "</style>\n",
       "<table border=\"1\" class=\"dataframe\">\n",
       "  <thead>\n",
       "    <tr style=\"text-align: right;\">\n",
       "      <th></th>\n",
       "      <th>County ID</th>\n",
       "      <th>MYS</th>\n",
       "      <th>Median Household Income</th>\n",
       "      <th>County</th>\n",
       "      <th>Crude Rate</th>\n",
       "      <th>Education Bin</th>\n",
       "      <th>Income Bin</th>\n",
       "      <th>Mortality Bin</th>\n",
       "    </tr>\n",
       "  </thead>\n",
       "  <tbody>\n",
       "    <tr>\n",
       "      <th>1</th>\n",
       "      <td>1001</td>\n",
       "      <td>14.294</td>\n",
       "      <td>53748.0</td>\n",
       "      <td>Autauga County, AL</td>\n",
       "      <td>130.0</td>\n",
       "      <td>7</td>\n",
       "      <td>8</td>\n",
       "      <td>6</td>\n",
       "    </tr>\n",
       "    <tr>\n",
       "      <th>2</th>\n",
       "      <td>1003</td>\n",
       "      <td>14.796</td>\n",
       "      <td>50976.0</td>\n",
       "      <td>Baldwin County, AL</td>\n",
       "      <td>113.0</td>\n",
       "      <td>9</td>\n",
       "      <td>8</td>\n",
       "      <td>5</td>\n",
       "    </tr>\n",
       "    <tr>\n",
       "      <th>3</th>\n",
       "      <td>1005</td>\n",
       "      <td>13.028</td>\n",
       "      <td>32111.0</td>\n",
       "      <td>Barbour County, AL</td>\n",
       "      <td>165.1</td>\n",
       "      <td>2</td>\n",
       "      <td>1</td>\n",
       "      <td>8</td>\n",
       "    </tr>\n",
       "    <tr>\n",
       "      <th>4</th>\n",
       "      <td>1007</td>\n",
       "      <td>13.112</td>\n",
       "      <td>40113.0</td>\n",
       "      <td>Bibb County, AL</td>\n",
       "      <td>195.8</td>\n",
       "      <td>2</td>\n",
       "      <td>3</td>\n",
       "      <td>9</td>\n",
       "    </tr>\n",
       "    <tr>\n",
       "      <th>5</th>\n",
       "      <td>1009</td>\n",
       "      <td>13.328</td>\n",
       "      <td>46377.0</td>\n",
       "      <td>Blount County, AL</td>\n",
       "      <td>130.7</td>\n",
       "      <td>3</td>\n",
       "      <td>6</td>\n",
       "      <td>7</td>\n",
       "    </tr>\n",
       "  </tbody>\n",
       "</table>\n",
       "</div>"
      ],
      "text/plain": [
       "   County ID     MYS  Median Household Income              County  Crude Rate  \\\n",
       "1       1001  14.294                  53748.0  Autauga County, AL       130.0   \n",
       "2       1003  14.796                  50976.0  Baldwin County, AL       113.0   \n",
       "3       1005  13.028                  32111.0  Barbour County, AL       165.1   \n",
       "4       1007  13.112                  40113.0     Bibb County, AL       195.8   \n",
       "5       1009  13.328                  46377.0   Blount County, AL       130.7   \n",
       "\n",
       "  Education Bin Income Bin Mortality Bin  \n",
       "1             7          8             6  \n",
       "2             9          8             5  \n",
       "3             2          1             8  \n",
       "4             2          3             9  \n",
       "5             3          6             7  "
      ]
     },
     "execution_count": 33,
     "metadata": {},
     "output_type": "execute_result"
    }
   ],
   "source": [
    "combined_data.head()"
   ]
  },
  {
   "cell_type": "code",
   "execution_count": 34,
   "metadata": {},
   "outputs": [
    {
     "name": "stdout",
     "output_type": "stream",
     "text": [
      "<class 'pandas.core.frame.DataFrame'>\n",
      "Int64Index: 2653 entries, 1 to 3151\n",
      "Data columns (total 8 columns):\n",
      "County ID                  2653 non-null int64\n",
      "MYS                        2653 non-null float64\n",
      "Median Household Income    2653 non-null float64\n",
      "County                     2653 non-null object\n",
      "Crude Rate                 2653 non-null float64\n",
      "Education Bin              2652 non-null category\n",
      "Income Bin                 2652 non-null category\n",
      "Mortality Bin              2652 non-null category\n",
      "dtypes: category(3), float64(3), int64(1), object(1)\n",
      "memory usage: 133.3+ KB\n"
     ]
    }
   ],
   "source": [
    "combined_data.info()"
   ]
  },
  {
   "cell_type": "code",
   "execution_count": 35,
   "metadata": {},
   "outputs": [
    {
     "name": "stdout",
     "output_type": "stream",
     "text": [
      "<class 'pandas.core.frame.DataFrame'>\n",
      "Int64Index: 2653 entries, 1 to 3151\n",
      "Data columns (total 8 columns):\n",
      "County ID                  2653 non-null int64\n",
      "MYS                        2653 non-null float64\n",
      "Median Household Income    2653 non-null float64\n",
      "County                     2653 non-null object\n",
      "Crude Rate                 2653 non-null float64\n",
      "Education Bin              2652 non-null float64\n",
      "Income Bin                 2652 non-null float64\n",
      "Mortality Bin              2652 non-null float64\n",
      "dtypes: float64(6), int64(1), object(1)\n",
      "memory usage: 186.5+ KB\n"
     ]
    }
   ],
   "source": [
    "combined_data['Income Bin'] = pd.to_numeric(combined_data['Income Bin']).astype(float)\n",
    "combined_data['Education Bin'] = pd.to_numeric(combined_data['Education Bin']).astype(float)\n",
    "combined_data['Mortality Bin'] = pd.to_numeric(combined_data['Mortality Bin']).astype(float)\n",
    "combined_data.info()"
   ]
  },
  {
   "cell_type": "code",
   "execution_count": 36,
   "metadata": {},
   "outputs": [
    {
     "data": {
      "text/plain": [
       "count    2653.000000\n",
       "mean       13.977689\n",
       "std         0.855245\n",
       "min        12.010000\n",
       "10%        13.022400\n",
       "20%        13.248800\n",
       "30%        13.449200\n",
       "40%        13.644000\n",
       "50%        13.830000\n",
       "60%        14.036000\n",
       "70%        14.298000\n",
       "80%        14.630000\n",
       "90%        15.152000\n",
       "max        18.010000\n",
       "Name: MYS, dtype: float64"
      ]
     },
     "execution_count": 36,
     "metadata": {},
     "output_type": "execute_result"
    }
   ],
   "source": [
    "combined_data['MYS'].describe(percentiles=[0.1, 0.2, 0.3, .4, .5, .6, .7, .8, .9])"
   ]
  },
  {
   "cell_type": "code",
   "execution_count": 37,
   "metadata": {},
   "outputs": [
    {
     "data": {
      "text/plain": [
       "(2653, 8)"
      ]
     },
     "execution_count": 37,
     "metadata": {},
     "output_type": "execute_result"
    }
   ],
   "source": [
    "combined_data.shape"
   ]
  },
  {
   "cell_type": "code",
   "execution_count": 38,
   "metadata": {},
   "outputs": [
    {
     "data": {
      "text/plain": [
       "(2650, 8)"
      ]
     },
     "execution_count": 38,
     "metadata": {},
     "output_type": "execute_result"
    }
   ],
   "source": [
    "combined_data = combined_data.dropna()\n",
    "combined_data.shape"
   ]
  },
  {
   "cell_type": "code",
   "execution_count": 39,
   "metadata": {},
   "outputs": [],
   "source": [
    "combined_data.to_csv('CJK-New-Combined_Dataset.csv', index=False)"
   ]
  },
  {
   "cell_type": "code",
   "execution_count": 40,
   "metadata": {},
   "outputs": [],
   "source": [
    "from scipy.stats import linregress"
   ]
  },
  {
   "cell_type": "code",
   "execution_count": 41,
   "metadata": {},
   "outputs": [
    {
     "data": {
      "text/plain": [
       "LinregressResult(slope=0.7151038176237223, intercept=1.5689781380262242, rvalue=0.7149401774756134, pvalue=0.0, stderr=0.013590420522599234)"
      ]
     },
     "execution_count": 41,
     "metadata": {},
     "output_type": "execute_result"
    }
   ],
   "source": [
    "stats.linregress(combined_data['Education Bin'], combined_data['Income Bin'])"
   ]
  },
  {
   "cell_type": "code",
   "execution_count": 42,
   "metadata": {},
   "outputs": [
    {
     "name": "stdout",
     "output_type": "stream",
     "text": [
      "High five! You successfully sent some data to your account on plotly. View your plot in your browser at https://plot.ly/~andrewkrog/0 or inside your plot.ly account where it is named 'choropleth_full_usa'\n"
     ]
    },
    {
     "name": "stderr",
     "output_type": "stream",
     "text": [
      "C:\\Users\\randy\\AppData\\Local\\Continuum\\anaconda3\\lib\\site-packages\\plotly\\api\\v1\\clientresp.py:40: UserWarning:\n",
      "\n",
      "Estimated Draw Time Slow\n",
      "\n"
     ]
    },
    {
     "data": {
      "text/html": [
       "<iframe id=\"igraph\" scrolling=\"no\" style=\"border:none;\" seamless=\"seamless\" src=\"https://plot.ly/~andrewkrog/0.embed\" height=\"450px\" width=\"900px\"></iframe>"
      ],
      "text/plain": [
       "<plotly.tools.PlotlyDisplay object>"
      ]
     },
     "execution_count": 42,
     "metadata": {},
     "output_type": "execute_result"
    }
   ],
   "source": [
    "import plotly\n",
    "import plotly.plotly as py\n",
    "import plotly.figure_factory as ff\n",
    "plotly.tools.set_credentials_file(username='andrewkrog', api_key='srXlzccNxXRUUsUM9uPn')\n",
    "\n",
    "import numpy as np\n",
    "import pandas as pd\n",
    "\n",
    "colorscale = [\"#f7fbff\",\"#d2e3f3\",\"#c6dbef\",\"#b3d2e9\",\"#9ecae1\",\n",
    "            \"#85bcdb\",\"#6baed6\",\"#3082be\",\"#2171b5\",\"#1361a9\",\n",
    "            \"#08519c\",\"#0b4083\",\"#08306b\"]\n",
    "              \n",
    "endpts = list(np.linspace(0, 125000, len(colorscale) - 1))\n",
    "fips = combined_data['County ID'].tolist()\n",
    "values = combined_data['Median Household Income'].tolist()\n",
    "\n",
    "fig = ff.create_choropleth(\n",
    "    fips=fips, values=values, scope=['usa'],\n",
    "    binning_endpoints=endpts, colorscale=colorscale,\n",
    "    show_state_data=False,\n",
    "    show_hover=True, centroid_marker={'opacity': 0},\n",
    "    asp=2.9, title='Median Household Income ($)',\n",
    "    legend_title='Median Household Income ($)',\n",
    ")\n",
    "py.iplot(fig, filename='choropleth_full_usa')"
   ]
  },
  {
   "cell_type": "code",
   "execution_count": 43,
   "metadata": {},
   "outputs": [
    {
     "name": "stdout",
     "output_type": "stream",
     "text": [
      "High five! You successfully sent some data to your account on plotly. View your plot in your browser at https://plot.ly/~andrewkrog/0 or inside your plot.ly account where it is named 'choropleth_full_usa'\n"
     ]
    },
    {
     "name": "stderr",
     "output_type": "stream",
     "text": [
      "C:\\Users\\randy\\AppData\\Local\\Continuum\\anaconda3\\lib\\site-packages\\plotly\\api\\v1\\clientresp.py:40: UserWarning:\n",
      "\n",
      "Estimated Draw Time Slow\n",
      "\n"
     ]
    },
    {
     "data": {
      "text/html": [
       "<iframe id=\"igraph\" scrolling=\"no\" style=\"border:none;\" seamless=\"seamless\" src=\"https://plot.ly/~andrewkrog/0.embed\" height=\"450px\" width=\"900px\"></iframe>"
      ],
      "text/plain": [
       "<plotly.tools.PlotlyDisplay object>"
      ]
     },
     "execution_count": 43,
     "metadata": {},
     "output_type": "execute_result"
    }
   ],
   "source": [
    "colorscale = [\"#f7ffe6\",\"#c4ff4d\",\"#b3ff1a\",\"#aaff00\",\n",
    "            \"#99e600\",\"#77b300\",\"#669900\",\"#558000\",\"#334d00\",\n",
    "            \"#223300\"]\n",
    "              \n",
    "endpts = list(np.linspace(8, 18, len(colorscale) - 1))\n",
    "fips = combined_data['County ID'].tolist()\n",
    "values = combined_data['MYS'].tolist()\n",
    "\n",
    "fig = ff.create_choropleth(\n",
    "    fips=fips, values=values, scope=['usa'],\n",
    "    binning_endpoints=endpts, colorscale=colorscale,\n",
    "    show_state_data=False,\n",
    "    show_hover=True, centroid_marker={'opacity': 0},\n",
    "    asp=2.9, title='Mean Year Schooling',\n",
    "    legend_title='Mean Year Schooling',\n",
    ")\n",
    "py.iplot(fig, filename='choropleth_full_usa')"
   ]
  },
  {
   "cell_type": "code",
   "execution_count": 44,
   "metadata": {},
   "outputs": [
    {
     "name": "stdout",
     "output_type": "stream",
     "text": [
      "High five! You successfully sent some data to your account on plotly. View your plot in your browser at https://plot.ly/~andrewkrog/0 or inside your plot.ly account where it is named 'choropleth_full_usa'\n"
     ]
    },
    {
     "name": "stderr",
     "output_type": "stream",
     "text": [
      "C:\\Users\\randy\\AppData\\Local\\Continuum\\anaconda3\\lib\\site-packages\\plotly\\api\\v1\\clientresp.py:40: UserWarning:\n",
      "\n",
      "Estimated Draw Time Slow\n",
      "\n"
     ]
    },
    {
     "data": {
      "text/html": [
       "<iframe id=\"igraph\" scrolling=\"no\" style=\"border:none;\" seamless=\"seamless\" src=\"https://plot.ly/~andrewkrog/0.embed\" height=\"450px\" width=\"900px\"></iframe>"
      ],
      "text/plain": [
       "<plotly.tools.PlotlyDisplay object>"
      ]
     },
     "execution_count": 44,
     "metadata": {},
     "output_type": "execute_result"
    }
   ],
   "source": [
    "colorscale = [\"#ffebe6\",\"#ffd6cc\",\"#ffad99\",\"#ff8566\",\n",
    "            \"#ff5c33\",\"#ff471a\",\"#ff3300\",\"#991f00\",\"#801a00\",\n",
    "            \"#661400\"]\n",
    "              \n",
    "endpts = list(np.linspace(0, 500, len(colorscale) - 1))\n",
    "fips = combined_data['County ID'].tolist()\n",
    "values = combined_data['Crude Rate'].tolist()\n",
    "\n",
    "fig = ff.create_choropleth(\n",
    "    fips=fips, values=values, scope=['usa'],\n",
    "    binning_endpoints=endpts, colorscale=colorscale,\n",
    "    show_state_data=False,\n",
    "    show_hover=True, centroid_marker={'opacity': 0},\n",
    "    asp=2.9, title='Crude Rate',\n",
    "    legend_title='Crude Rate',\n",
    ")\n",
    "py.iplot(fig, filename='choropleth_full_usa')"
   ]
  },
  {
   "cell_type": "code",
   "execution_count": 45,
   "metadata": {},
   "outputs": [
    {
     "ename": "ValueError",
     "evalue": "Length mismatch: Expected axis has 11 elements, new values have 12 elements",
     "output_type": "error",
     "traceback": [
      "\u001b[1;31m---------------------------------------------------------------------------\u001b[0m",
      "\u001b[1;31mValueError\u001b[0m                                Traceback (most recent call last)",
      "\u001b[1;32m<ipython-input-45-b58adf1e7cf5>\u001b[0m in \u001b[0;36m<module>\u001b[1;34m()\u001b[0m\n\u001b[0;32m      4\u001b[0m \u001b[0mcombined_data_pivot\u001b[0m \u001b[1;33m=\u001b[0m \u001b[0mcombined_data\u001b[0m\u001b[1;33m[\u001b[0m\u001b[1;33m[\u001b[0m\u001b[1;34m'Income Bin'\u001b[0m\u001b[1;33m,\u001b[0m \u001b[1;34m'Count'\u001b[0m\u001b[1;33m,\u001b[0m \u001b[1;34m'Crude Rate'\u001b[0m\u001b[1;33m]\u001b[0m\u001b[1;33m]\u001b[0m\u001b[1;33m.\u001b[0m\u001b[0mpivot\u001b[0m\u001b[1;33m(\u001b[0m\u001b[0mindex\u001b[0m \u001b[1;33m=\u001b[0m \u001b[1;34m'Count'\u001b[0m\u001b[1;33m,\u001b[0m \u001b[0mcolumns\u001b[0m \u001b[1;33m=\u001b[0m \u001b[1;34m'Income Bin'\u001b[0m\u001b[1;33m)\u001b[0m\u001b[1;33m\u001b[0m\u001b[0m\n\u001b[0;32m      5\u001b[0m \u001b[0mcombined_data_pivot\u001b[0m \u001b[1;33m=\u001b[0m \u001b[0mpd\u001b[0m\u001b[1;33m.\u001b[0m\u001b[0mDataFrame\u001b[0m\u001b[1;33m(\u001b[0m\u001b[0mcombined_data_pivot\u001b[0m\u001b[1;33m.\u001b[0m\u001b[0mto_records\u001b[0m\u001b[1;33m(\u001b[0m\u001b[1;33m)\u001b[0m\u001b[1;33m)\u001b[0m\u001b[1;33m\u001b[0m\u001b[0m\n\u001b[1;32m----> 6\u001b[1;33m \u001b[0mcombined_data_pivot\u001b[0m\u001b[1;33m.\u001b[0m\u001b[0mcolumns\u001b[0m \u001b[1;33m=\u001b[0m \u001b[1;33m[\u001b[0m\u001b[1;34m'Count'\u001b[0m\u001b[1;33m,\u001b[0m \u001b[1;34m'NaN'\u001b[0m\u001b[1;33m,\u001b[0m\u001b[1;34m'0-10th Percentile'\u001b[0m\u001b[1;33m,\u001b[0m \u001b[1;34m'20th'\u001b[0m\u001b[1;33m,\u001b[0m \u001b[1;34m'30th'\u001b[0m\u001b[1;33m,\u001b[0m \u001b[1;34m'40th'\u001b[0m\u001b[1;33m,\u001b[0m \u001b[1;34m'50th'\u001b[0m\u001b[1;33m,\u001b[0m\u001b[1;34m'60th'\u001b[0m\u001b[1;33m,\u001b[0m \u001b[1;34m'70th'\u001b[0m\u001b[1;33m,\u001b[0m \u001b[1;34m'80th'\u001b[0m\u001b[1;33m,\u001b[0m \u001b[1;34m'90th'\u001b[0m\u001b[1;33m,\u001b[0m \u001b[1;34m'100th'\u001b[0m\u001b[1;33m]\u001b[0m\u001b[1;33m\u001b[0m\u001b[0m\n\u001b[0m\u001b[0;32m      7\u001b[0m \u001b[1;32mdel\u001b[0m \u001b[0mcombined_data_pivot\u001b[0m\u001b[1;33m[\u001b[0m\u001b[1;34m'Count'\u001b[0m\u001b[1;33m]\u001b[0m\u001b[1;33m\u001b[0m\u001b[0m\n\u001b[0;32m      8\u001b[0m \u001b[1;32mdel\u001b[0m \u001b[0mcombined_data_pivot\u001b[0m\u001b[1;33m[\u001b[0m\u001b[1;34m'NaN'\u001b[0m\u001b[1;33m]\u001b[0m\u001b[1;33m\u001b[0m\u001b[0m\n",
      "\u001b[1;32m~\\AppData\\Local\\Continuum\\anaconda3\\lib\\site-packages\\pandas\\core\\generic.py\u001b[0m in \u001b[0;36m__setattr__\u001b[1;34m(self, name, value)\u001b[0m\n\u001b[0;32m   3625\u001b[0m         \u001b[1;32mtry\u001b[0m\u001b[1;33m:\u001b[0m\u001b[1;33m\u001b[0m\u001b[0m\n\u001b[0;32m   3626\u001b[0m             \u001b[0mobject\u001b[0m\u001b[1;33m.\u001b[0m\u001b[0m__getattribute__\u001b[0m\u001b[1;33m(\u001b[0m\u001b[0mself\u001b[0m\u001b[1;33m,\u001b[0m \u001b[0mname\u001b[0m\u001b[1;33m)\u001b[0m\u001b[1;33m\u001b[0m\u001b[0m\n\u001b[1;32m-> 3627\u001b[1;33m             \u001b[1;32mreturn\u001b[0m \u001b[0mobject\u001b[0m\u001b[1;33m.\u001b[0m\u001b[0m__setattr__\u001b[0m\u001b[1;33m(\u001b[0m\u001b[0mself\u001b[0m\u001b[1;33m,\u001b[0m \u001b[0mname\u001b[0m\u001b[1;33m,\u001b[0m \u001b[0mvalue\u001b[0m\u001b[1;33m)\u001b[0m\u001b[1;33m\u001b[0m\u001b[0m\n\u001b[0m\u001b[0;32m   3628\u001b[0m         \u001b[1;32mexcept\u001b[0m \u001b[0mAttributeError\u001b[0m\u001b[1;33m:\u001b[0m\u001b[1;33m\u001b[0m\u001b[0m\n\u001b[0;32m   3629\u001b[0m             \u001b[1;32mpass\u001b[0m\u001b[1;33m\u001b[0m\u001b[0m\n",
      "\u001b[1;32mpandas/_libs/properties.pyx\u001b[0m in \u001b[0;36mpandas._libs.properties.AxisProperty.__set__\u001b[1;34m()\u001b[0m\n",
      "\u001b[1;32m~\\AppData\\Local\\Continuum\\anaconda3\\lib\\site-packages\\pandas\\core\\generic.py\u001b[0m in \u001b[0;36m_set_axis\u001b[1;34m(self, axis, labels)\u001b[0m\n\u001b[0;32m    557\u001b[0m \u001b[1;33m\u001b[0m\u001b[0m\n\u001b[0;32m    558\u001b[0m     \u001b[1;32mdef\u001b[0m \u001b[0m_set_axis\u001b[0m\u001b[1;33m(\u001b[0m\u001b[0mself\u001b[0m\u001b[1;33m,\u001b[0m \u001b[0maxis\u001b[0m\u001b[1;33m,\u001b[0m \u001b[0mlabels\u001b[0m\u001b[1;33m)\u001b[0m\u001b[1;33m:\u001b[0m\u001b[1;33m\u001b[0m\u001b[0m\n\u001b[1;32m--> 559\u001b[1;33m         \u001b[0mself\u001b[0m\u001b[1;33m.\u001b[0m\u001b[0m_data\u001b[0m\u001b[1;33m.\u001b[0m\u001b[0mset_axis\u001b[0m\u001b[1;33m(\u001b[0m\u001b[0maxis\u001b[0m\u001b[1;33m,\u001b[0m \u001b[0mlabels\u001b[0m\u001b[1;33m)\u001b[0m\u001b[1;33m\u001b[0m\u001b[0m\n\u001b[0m\u001b[0;32m    560\u001b[0m         \u001b[0mself\u001b[0m\u001b[1;33m.\u001b[0m\u001b[0m_clear_item_cache\u001b[0m\u001b[1;33m(\u001b[0m\u001b[1;33m)\u001b[0m\u001b[1;33m\u001b[0m\u001b[0m\n\u001b[0;32m    561\u001b[0m \u001b[1;33m\u001b[0m\u001b[0m\n",
      "\u001b[1;32m~\\AppData\\Local\\Continuum\\anaconda3\\lib\\site-packages\\pandas\\core\\internals.py\u001b[0m in \u001b[0;36mset_axis\u001b[1;34m(self, axis, new_labels)\u001b[0m\n\u001b[0;32m   3072\u001b[0m             raise ValueError('Length mismatch: Expected axis has %d elements, '\n\u001b[0;32m   3073\u001b[0m                              \u001b[1;34m'new values have %d elements'\u001b[0m \u001b[1;33m%\u001b[0m\u001b[1;33m\u001b[0m\u001b[0m\n\u001b[1;32m-> 3074\u001b[1;33m                              (old_len, new_len))\n\u001b[0m\u001b[0;32m   3075\u001b[0m \u001b[1;33m\u001b[0m\u001b[0m\n\u001b[0;32m   3076\u001b[0m         \u001b[0mself\u001b[0m\u001b[1;33m.\u001b[0m\u001b[0maxes\u001b[0m\u001b[1;33m[\u001b[0m\u001b[0maxis\u001b[0m\u001b[1;33m]\u001b[0m \u001b[1;33m=\u001b[0m \u001b[0mnew_labels\u001b[0m\u001b[1;33m\u001b[0m\u001b[0m\n",
      "\u001b[1;31mValueError\u001b[0m: Length mismatch: Expected axis has 11 elements, new values have 12 elements"
     ]
    }
   ],
   "source": [
    "import joypy\n",
    "\n",
    "combined_data[\"Count\"] = combined_data.groupby('Income Bin').cumcount() + 1\n",
    "combined_data_pivot = combined_data[['Income Bin', 'Count', 'Crude Rate']].pivot(index = 'Count', columns = 'Income Bin')\n",
    "combined_data_pivot = pd.DataFrame(combined_data_pivot.to_records())\n",
    "combined_data_pivot.columns = ['Count', 'NaN','0-10th Percentile', '20th', '30th', '40th', '50th','60th', '70th', '80th', '90th', '100th']\n",
    "del combined_data_pivot['Count']\n",
    "del combined_data_pivot['NaN']\n",
    "\n",
    "fig, axes = joypy.joyplot(combined_data_pivot,\n",
    "                          title = 'Distribution of Heart Disease Deaths per 100,000\\nby County Median Income Decile',\n",
    "                          overlap = 0.75,\n",
    "                          figsize = (7,5)\n",
    "                         )"
   ]
  },
  {
   "cell_type": "code",
   "execution_count": 51,
   "metadata": {},
   "outputs": [
    {
     "ename": "ValueError",
     "evalue": "Length mismatch: Expected axis has 10 elements, new values have 12 elements",
     "output_type": "error",
     "traceback": [
      "\u001b[1;31m---------------------------------------------------------------------------\u001b[0m",
      "\u001b[1;31mValueError\u001b[0m                                Traceback (most recent call last)",
      "\u001b[1;32m<ipython-input-51-56902b7a058f>\u001b[0m in \u001b[0;36m<module>\u001b[1;34m()\u001b[0m\n\u001b[0;32m      4\u001b[0m combined_data_pivot_educ.columns = ['Count', 'NaN',\n\u001b[0;32m      5\u001b[0m                                \u001b[1;34m'0-10th Percentile'\u001b[0m\u001b[1;33m,\u001b[0m \u001b[1;34m'10-20th'\u001b[0m\u001b[1;33m,\u001b[0m \u001b[1;34m'20-30th'\u001b[0m\u001b[1;33m,\u001b[0m \u001b[1;34m'30-40th'\u001b[0m\u001b[1;33m,\u001b[0m \u001b[1;34m'40-50th'\u001b[0m\u001b[1;33m,\u001b[0m\u001b[1;33m\u001b[0m\u001b[0m\n\u001b[1;32m----> 6\u001b[1;33m                                '50-60th', '60-70th', '70-80th', '80-90th', '90-100th']\n\u001b[0m\u001b[0;32m      7\u001b[0m \u001b[1;32mdel\u001b[0m \u001b[0mcombined_data_pivot_educ\u001b[0m\u001b[1;33m[\u001b[0m\u001b[1;34m'Count'\u001b[0m\u001b[1;33m]\u001b[0m\u001b[1;33m\u001b[0m\u001b[0m\n\u001b[0;32m      8\u001b[0m \u001b[1;32mdel\u001b[0m \u001b[0mcombined_data_pivot_educ\u001b[0m\u001b[1;33m[\u001b[0m\u001b[1;34m'NaN'\u001b[0m\u001b[1;33m]\u001b[0m\u001b[1;33m\u001b[0m\u001b[0m\n",
      "\u001b[1;32m~\\AppData\\Local\\Continuum\\anaconda3\\lib\\site-packages\\pandas\\core\\generic.py\u001b[0m in \u001b[0;36m__setattr__\u001b[1;34m(self, name, value)\u001b[0m\n\u001b[0;32m   3625\u001b[0m         \u001b[1;32mtry\u001b[0m\u001b[1;33m:\u001b[0m\u001b[1;33m\u001b[0m\u001b[0m\n\u001b[0;32m   3626\u001b[0m             \u001b[0mobject\u001b[0m\u001b[1;33m.\u001b[0m\u001b[0m__getattribute__\u001b[0m\u001b[1;33m(\u001b[0m\u001b[0mself\u001b[0m\u001b[1;33m,\u001b[0m \u001b[0mname\u001b[0m\u001b[1;33m)\u001b[0m\u001b[1;33m\u001b[0m\u001b[0m\n\u001b[1;32m-> 3627\u001b[1;33m             \u001b[1;32mreturn\u001b[0m \u001b[0mobject\u001b[0m\u001b[1;33m.\u001b[0m\u001b[0m__setattr__\u001b[0m\u001b[1;33m(\u001b[0m\u001b[0mself\u001b[0m\u001b[1;33m,\u001b[0m \u001b[0mname\u001b[0m\u001b[1;33m,\u001b[0m \u001b[0mvalue\u001b[0m\u001b[1;33m)\u001b[0m\u001b[1;33m\u001b[0m\u001b[0m\n\u001b[0m\u001b[0;32m   3628\u001b[0m         \u001b[1;32mexcept\u001b[0m \u001b[0mAttributeError\u001b[0m\u001b[1;33m:\u001b[0m\u001b[1;33m\u001b[0m\u001b[0m\n\u001b[0;32m   3629\u001b[0m             \u001b[1;32mpass\u001b[0m\u001b[1;33m\u001b[0m\u001b[0m\n",
      "\u001b[1;32mpandas/_libs/properties.pyx\u001b[0m in \u001b[0;36mpandas._libs.properties.AxisProperty.__set__\u001b[1;34m()\u001b[0m\n",
      "\u001b[1;32m~\\AppData\\Local\\Continuum\\anaconda3\\lib\\site-packages\\pandas\\core\\generic.py\u001b[0m in \u001b[0;36m_set_axis\u001b[1;34m(self, axis, labels)\u001b[0m\n\u001b[0;32m    557\u001b[0m \u001b[1;33m\u001b[0m\u001b[0m\n\u001b[0;32m    558\u001b[0m     \u001b[1;32mdef\u001b[0m \u001b[0m_set_axis\u001b[0m\u001b[1;33m(\u001b[0m\u001b[0mself\u001b[0m\u001b[1;33m,\u001b[0m \u001b[0maxis\u001b[0m\u001b[1;33m,\u001b[0m \u001b[0mlabels\u001b[0m\u001b[1;33m)\u001b[0m\u001b[1;33m:\u001b[0m\u001b[1;33m\u001b[0m\u001b[0m\n\u001b[1;32m--> 559\u001b[1;33m         \u001b[0mself\u001b[0m\u001b[1;33m.\u001b[0m\u001b[0m_data\u001b[0m\u001b[1;33m.\u001b[0m\u001b[0mset_axis\u001b[0m\u001b[1;33m(\u001b[0m\u001b[0maxis\u001b[0m\u001b[1;33m,\u001b[0m \u001b[0mlabels\u001b[0m\u001b[1;33m)\u001b[0m\u001b[1;33m\u001b[0m\u001b[0m\n\u001b[0m\u001b[0;32m    560\u001b[0m         \u001b[0mself\u001b[0m\u001b[1;33m.\u001b[0m\u001b[0m_clear_item_cache\u001b[0m\u001b[1;33m(\u001b[0m\u001b[1;33m)\u001b[0m\u001b[1;33m\u001b[0m\u001b[0m\n\u001b[0;32m    561\u001b[0m \u001b[1;33m\u001b[0m\u001b[0m\n",
      "\u001b[1;32m~\\AppData\\Local\\Continuum\\anaconda3\\lib\\site-packages\\pandas\\core\\internals.py\u001b[0m in \u001b[0;36mset_axis\u001b[1;34m(self, axis, new_labels)\u001b[0m\n\u001b[0;32m   3072\u001b[0m             raise ValueError('Length mismatch: Expected axis has %d elements, '\n\u001b[0;32m   3073\u001b[0m                              \u001b[1;34m'new values have %d elements'\u001b[0m \u001b[1;33m%\u001b[0m\u001b[1;33m\u001b[0m\u001b[0m\n\u001b[1;32m-> 3074\u001b[1;33m                              (old_len, new_len))\n\u001b[0m\u001b[0;32m   3075\u001b[0m \u001b[1;33m\u001b[0m\u001b[0m\n\u001b[0;32m   3076\u001b[0m         \u001b[0mself\u001b[0m\u001b[1;33m.\u001b[0m\u001b[0maxes\u001b[0m\u001b[1;33m[\u001b[0m\u001b[0maxis\u001b[0m\u001b[1;33m]\u001b[0m \u001b[1;33m=\u001b[0m \u001b[0mnew_labels\u001b[0m\u001b[1;33m\u001b[0m\u001b[0m\n",
      "\u001b[1;31mValueError\u001b[0m: Length mismatch: Expected axis has 10 elements, new values have 12 elements"
     ]
    }
   ],
   "source": [
    "combined_data[\"Count\"] = combined_data.groupby('Education Bin').cumcount() + 1\n",
    "combined_data_pivot_educ = combined_data[['Education Bin', 'Count', 'Crude Rate']].pivot(index = 'Count', columns = 'Education Bin')\n",
    "combined_data_educ = pd.DataFrame(combined_data_pivot_educ.to_records())\n",
    "combined_data_pivot_educ.columns = ['Count', 'NaN',\n",
    "                               '0-10th Percentile', '10-20th', '20-30th', '30-40th', '40-50th',\n",
    "                               '50-60th', '60-70th', '70-80th', '80-90th', '90-100th']\n",
    "del combined_data_pivot_educ['Count']\n",
    "del combined_data_pivot_educ['NaN']\n",
    "\n",
    "fig, axes = joypy.joyplot(combined_data_pivot_educ,\n",
    "                          title = 'Distribution of Heart Disease Deaths per 100,000\\nby County Education Decile',\n",
    "                          overlap = 0.75,\n",
    "                          figsize = (7,5)\n",
    "                         )"
   ]
  },
  {
   "cell_type": "code",
   "execution_count": null,
   "metadata": {},
   "outputs": [],
   "source": [
    "\n"
   ]
  },
  {
   "cell_type": "code",
   "execution_count": null,
   "metadata": {},
   "outputs": [],
   "source": []
  }
 ],
 "metadata": {
  "kernelspec": {
   "display_name": "Python 3",
   "language": "python",
   "name": "python3"
  },
  "language_info": {
   "codemirror_mode": {
    "name": "ipython",
    "version": 3
   },
   "file_extension": ".py",
   "mimetype": "text/x-python",
   "name": "python",
   "nbconvert_exporter": "python",
   "pygments_lexer": "ipython3",
   "version": "3.6.4"
  }
 },
 "nbformat": 4,
 "nbformat_minor": 2
}
